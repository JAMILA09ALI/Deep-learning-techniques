{
  "nbformat": 4,
  "nbformat_minor": 0,
  "metadata": {
    "colab": {
      "provenance": [],
      "authorship_tag": "ABX9TyNR66Q2K0btzT4hgYEGzDuw",
      "include_colab_link": true
    },
    "kernelspec": {
      "name": "python3",
      "display_name": "Python 3"
    },
    "language_info": {
      "name": "python"
    },
    "accelerator": "GPU",
    "gpuClass": "standard"
  },
  "cells": [
    {
      "cell_type": "markdown",
      "metadata": {
        "id": "view-in-github",
        "colab_type": "text"
      },
      "source": [
        "<a href=\"https://colab.research.google.com/github/JAMILA09ALI/Machine-Vision-Quizzes/blob/main/Quiz3_MV.ipynb\" target=\"_parent\"><img src=\"https://colab.research.google.com/assets/colab-badge.svg\" alt=\"Open In Colab\"/></a>"
      ]
    },
    {
      "cell_type": "code",
      "source": [
        "from google.colab import drive\n",
        "drive.mount('/content/gdrive')"
      ],
      "metadata": {
        "colab": {
          "base_uri": "https://localhost:8080/"
        },
        "id": "xyGW2i3glDy8",
        "outputId": "5ec08e26-0c68-4c22-b85b-ce0636712a8d"
      },
      "execution_count": null,
      "outputs": [
        {
          "output_type": "stream",
          "name": "stdout",
          "text": [
            "Mounted at /content/gdrive\n"
          ]
        }
      ]
    },
    {
      "cell_type": "code",
      "source": [
        "path = \"/content/gdrive/MyDrive/Quizzes/\""
      ],
      "metadata": {
        "id": "de1M75ELlHtS"
      },
      "execution_count": null,
      "outputs": []
    },
    {
      "cell_type": "code",
      "source": [
        "import cv2\n",
        "\n",
        "def funcCan(thresh1=0):\n",
        "    thresh1 = cv2.getTrackbarPos('thresh1', 'canny')\n",
        "    thresh2 = cv2.getTrackbarPos('thresh2', 'canny')\n",
        "    edge = cv2.Canny(img, thresh1, thresh2)\n",
        "    cv2.imshow('canny', edge)\n",
        "\n",
        "if __name__== '__main__':\n",
        "\n",
        "    original = cv2.imread(path +'lego1.png',1)\n",
        "    img = original.copy()\n",
        "    img = cv2.GaussianBlur(img,(5,5),0)\n",
        "\n",
        "    cv2.namedWindow('canny')\n",
        "\n",
        "\n",
        "    thresh1=100\n",
        "    thresh2=1\n",
        "    cv2.createTrackbar('thresh1','canny',thresh1,255,funcCan)\n",
        "    cv2.createTrackbar('thresh2','canny',thresh2,255,funcCan)\n",
        "    funcCan(0)\n",
        "    cv2.imshow('Frame',original)\n",
        "\n",
        "\n",
        "    cv2.waitKey(0)\n",
        "\n",
        "\n",
        "cv2.destroyAllWindows()"
      ],
      "metadata": {
        "id": "GzpUEYwSCp2H"
      },
      "execution_count": null,
      "outputs": []
    },
    {
      "cell_type": "code",
      "source": [
        " "
      ],
      "metadata": {
        "id": "Rp7rwr5snlEX"
      },
      "execution_count": null,
      "outputs": []
    },
    {
      "cell_type": "code",
      "source": [
        "#import opencv and numpy\n",
        "import cv2  \n",
        "import numpy as np\n",
        "\n",
        "#trackbar callback fucntion does nothing but required for trackbar\n",
        "\n",
        "\n",
        "def change_color(x):\n",
        "\t#condition to change color if trackbar value is greater than 127 \n",
        "\tif(cv2.getTrackbarPos('r','controls')>127):\n",
        "\t\tglobal circle_color\n",
        "\t\tcircle_color=(255,0,0)\n",
        "\telse:\n",
        "\t\tcircle_color=(0,0,255)\n",
        "\n",
        "#create a seperate window named 'controls' for trackbar\n",
        "cv2.namedWindow('controls')\n",
        "#create trackbar in 'controls' window with name 'r''\n",
        "cv2.createTrackbar('r','controls',15,255,change_color)\n",
        "#initial color\n",
        "circle_color=(0,0,255)\n",
        "\n",
        "\n",
        "while(1):\n",
        "\t#create a black image \n",
        "\timg = np.zeros((512,512,3), np.uint8)\n",
        "\t#calculate center of image\n",
        "\timg_center_y=img.shape[0]//2\n",
        "\timg_center_x=img.shape[1]//2\n",
        "\n",
        "\n",
        "\n",
        "\t#returns current position/value of trackbar \n",
        "\tradius= int(cv2.getTrackbarPos('r','controls'))\n",
        "\t#draw a red circle in the center of the image with radius set by trackbar position\n",
        "\tcv2.circle(img,(img_center_y,img_center_x), radius, circle_color, -1)\n",
        "\t#show the image window\n",
        "\tcv2.imshow('img',img)\n",
        "\t\n",
        "\t#waitfor the user to press escape and break the while loop \n",
        "\tk = cv2.waitKey(1) & 0xFF\n",
        "\tif k == 27:\n",
        "\t\tbreak\n",
        "\t\t\n",
        "#destroys all window\n",
        "cv2.destroyAllWindows()"
      ],
      "metadata": {
        "id": "PHRUbJNrmekT"
      },
      "execution_count": null,
      "outputs": []
    },
    {
      "cell_type": "code",
      "source": [
        "import cv2\n",
        "import numpy as np\n",
        "  \n",
        "# Read image.\n",
        "img = cv2.imread(path +'lego1.png', cv2.IMREAD_COLOR)\n",
        "  \n",
        "# Convert to grayscale.\n",
        "gray = cv2.cvtColor(img, cv2.COLOR_BGR2GRAY)\n",
        "  \n",
        "# Blur using 3 * 3 kernel.\n",
        "gray_blurred = cv2.blur(gray, (3, 3))\n",
        "  \n",
        "# Apply Hough transform on the blurred image.\n",
        "detected_circles = cv2.HoughCircles(gray_blurred, \n",
        "                   cv2.HOUGH_GRADIENT, 1, 20, param1 = 50,\n",
        "               param2 = 30, minRadius = 1, maxRadius = 40)\n",
        "  \n",
        "# Draw circles that are detected.\n",
        "if detected_circles is not None:\n",
        "  \n",
        "    # Convert the circle parameters a, b and r to integers.\n",
        "    detected_circles = np.uint16(np.around(detected_circles))\n",
        "  \n",
        "    for pt in detected_circles[0, :]:\n",
        "        a, b, r = pt[0], pt[1], pt[2]\n",
        "  \n",
        "        # Draw the circumference of the circle.\n",
        "        cv2.circle(img, (a, b), r, (0, 255, 0), 2)\n",
        "  \n",
        "        # Draw a small circle (of radius 1) to show the center.\n",
        "        cv2.circle(img, (a, b), 1, (0, 0, 255), 3)\n",
        "        cv2.imshow(\"Detected Circle\", img)\n",
        "        cv2.waitKey(0)"
      ],
      "metadata": {
        "colab": {
          "base_uri": "https://localhost:8080/",
          "height": 391
        },
        "id": "gdX03EKaiZbW",
        "outputId": "b99d4fb7-a01e-41a9-8167-00f3aa0ef4fd"
      },
      "execution_count": null,
      "outputs": [
        {
          "output_type": "error",
          "ename": "DisabledFunctionError",
          "evalue": "ignored",
          "traceback": [
            "\u001b[0;31m---------------------------------------------------------------------------\u001b[0m",
            "\u001b[0;31mDisabledFunctionError\u001b[0m                     Traceback (most recent call last)",
            "\u001b[0;32m<ipython-input-4-bac2b00aa5ce>\u001b[0m in \u001b[0;36m<module>\u001b[0;34m\u001b[0m\n\u001b[1;32m     30\u001b[0m         \u001b[0;31m# Draw a small circle (of radius 1) to show the center.\u001b[0m\u001b[0;34m\u001b[0m\u001b[0;34m\u001b[0m\u001b[0;34m\u001b[0m\u001b[0m\n\u001b[1;32m     31\u001b[0m         \u001b[0mcv2\u001b[0m\u001b[0;34m.\u001b[0m\u001b[0mcircle\u001b[0m\u001b[0;34m(\u001b[0m\u001b[0mimg\u001b[0m\u001b[0;34m,\u001b[0m \u001b[0;34m(\u001b[0m\u001b[0ma\u001b[0m\u001b[0;34m,\u001b[0m \u001b[0mb\u001b[0m\u001b[0;34m)\u001b[0m\u001b[0;34m,\u001b[0m \u001b[0;36m1\u001b[0m\u001b[0;34m,\u001b[0m \u001b[0;34m(\u001b[0m\u001b[0;36m0\u001b[0m\u001b[0;34m,\u001b[0m \u001b[0;36m0\u001b[0m\u001b[0;34m,\u001b[0m \u001b[0;36m255\u001b[0m\u001b[0;34m)\u001b[0m\u001b[0;34m,\u001b[0m \u001b[0;36m3\u001b[0m\u001b[0;34m)\u001b[0m\u001b[0;34m\u001b[0m\u001b[0;34m\u001b[0m\u001b[0m\n\u001b[0;32m---> 32\u001b[0;31m         \u001b[0mcv2\u001b[0m\u001b[0;34m.\u001b[0m\u001b[0mimshow\u001b[0m\u001b[0;34m(\u001b[0m\u001b[0;34m\"Detected Circle\"\u001b[0m\u001b[0;34m,\u001b[0m \u001b[0mimg\u001b[0m\u001b[0;34m)\u001b[0m\u001b[0;34m\u001b[0m\u001b[0;34m\u001b[0m\u001b[0m\n\u001b[0m\u001b[1;32m     33\u001b[0m         \u001b[0mcv2\u001b[0m\u001b[0;34m.\u001b[0m\u001b[0mwaitKey\u001b[0m\u001b[0;34m(\u001b[0m\u001b[0;36m0\u001b[0m\u001b[0;34m)\u001b[0m\u001b[0;34m\u001b[0m\u001b[0;34m\u001b[0m\u001b[0m\n",
            "\u001b[0;32m/usr/local/lib/python3.8/dist-packages/google/colab/_import_hooks/_cv2.py\u001b[0m in \u001b[0;36mwrapped\u001b[0;34m(*args, **kwargs)\u001b[0m\n\u001b[1;32m     46\u001b[0m   \u001b[0;32mdef\u001b[0m \u001b[0mwrapped\u001b[0m\u001b[0;34m(\u001b[0m\u001b[0;34m*\u001b[0m\u001b[0margs\u001b[0m\u001b[0;34m,\u001b[0m \u001b[0;34m**\u001b[0m\u001b[0mkwargs\u001b[0m\u001b[0;34m)\u001b[0m\u001b[0;34m:\u001b[0m\u001b[0;34m\u001b[0m\u001b[0;34m\u001b[0m\u001b[0m\n\u001b[1;32m     47\u001b[0m     \u001b[0;32mif\u001b[0m \u001b[0;32mnot\u001b[0m \u001b[0mos\u001b[0m\u001b[0;34m.\u001b[0m\u001b[0menviron\u001b[0m\u001b[0;34m.\u001b[0m\u001b[0mget\u001b[0m\u001b[0;34m(\u001b[0m\u001b[0menv_var\u001b[0m\u001b[0;34m,\u001b[0m \u001b[0;32mFalse\u001b[0m\u001b[0;34m)\u001b[0m\u001b[0;34m:\u001b[0m\u001b[0;34m\u001b[0m\u001b[0;34m\u001b[0m\u001b[0m\n\u001b[0;32m---> 48\u001b[0;31m       \u001b[0;32mraise\u001b[0m \u001b[0mDisabledFunctionError\u001b[0m\u001b[0;34m(\u001b[0m\u001b[0mmessage\u001b[0m\u001b[0;34m,\u001b[0m \u001b[0mname\u001b[0m \u001b[0;32mor\u001b[0m \u001b[0mfunc\u001b[0m\u001b[0;34m.\u001b[0m\u001b[0m__name__\u001b[0m\u001b[0;34m)\u001b[0m\u001b[0;34m\u001b[0m\u001b[0;34m\u001b[0m\u001b[0m\n\u001b[0m\u001b[1;32m     49\u001b[0m     \u001b[0;32mreturn\u001b[0m \u001b[0mfunc\u001b[0m\u001b[0;34m(\u001b[0m\u001b[0;34m*\u001b[0m\u001b[0margs\u001b[0m\u001b[0;34m,\u001b[0m \u001b[0;34m**\u001b[0m\u001b[0mkwargs\u001b[0m\u001b[0;34m)\u001b[0m\u001b[0;34m\u001b[0m\u001b[0;34m\u001b[0m\u001b[0m\n\u001b[1;32m     50\u001b[0m \u001b[0;34m\u001b[0m\u001b[0m\n",
            "\u001b[0;31mDisabledFunctionError\u001b[0m: cv2.imshow() is disabled in Colab, because it causes Jupyter sessions\nto crash; see https://github.com/jupyter/notebook/issues/3935.\nAs a substitution, consider using\n  from google.colab.patches import cv2_imshow\n"
          ],
          "errorDetails": {
            "actions": [
              {
                "action": "open_snippet",
                "actionText": "Search Snippets for cv2.imshow",
                "snippetFilter": "cv2.imshow"
              }
            ]
          }
        }
      ]
    }
  ]
}